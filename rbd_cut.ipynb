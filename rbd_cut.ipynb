{
 "cells": [
  {
   "cell_type": "code",
   "execution_count": 5,
   "id": "a6cbd7b1",
   "metadata": {},
   "outputs": [
    {
     "name": "stdout",
     "output_type": "stream",
     "text": [
      "Wrote chain B, residues 319–541 to rbd-structures/Omicron-BA.2.12.1-rbd.pdb\n"
     ]
    }
   ],
   "source": [
    "from Bio.PDB import PDBParser, PDBIO, Select\n",
    "\n",
    "class ChainResidueSelect(Select):\n",
    "    \"\"\"Keep only residues between start–end on a given chain.\"\"\"\n",
    "    def __init__(self, chain_id, start, end):\n",
    "        self.chain_id = chain_id\n",
    "        self.start = start\n",
    "        self.end = end\n",
    "\n",
    "    def accept_chain(self, chain):\n",
    "        return (chain.id == self.chain_id)\n",
    "\n",
    "    def accept_residue(self, residue):\n",
    "        resnum = residue.id[1]\n",
    "        return (self.start <= resnum <= self.end)\n",
    "\n",
    "# parameters\n",
    "INPUT_PDB  = \"full-structures/Omicron-BA.2.12.1-7XNS.pdb\"\n",
    "OUTPUT_PDB = \"rbd-structures/Omicron-BA.2.12.1-rbd.pdb\"\n",
    "START, END = 319, 541\n",
    "CHAIN_ID   = \"B\"\n",
    "\n",
    "# parse + write\n",
    "parser    = PDBParser(QUIET=True)\n",
    "structure = parser.get_structure(\"X\", INPUT_PDB)\n",
    "\n",
    "io = PDBIO()\n",
    "io.set_structure(structure)\n",
    "selector = ChainResidueSelect(CHAIN_ID, START, END)\n",
    "io.save(OUTPUT_PDB, select=selector)\n",
    "\n",
    "print(f\"Wrote chain {CHAIN_ID}, residues {START}–{END} to {OUTPUT_PDB}\")\n"
   ]
  },
  {
   "cell_type": "code",
   "execution_count": null,
   "id": "4235c886",
   "metadata": {},
   "outputs": [],
   "source": []
  }
 ],
 "metadata": {
  "kernelspec": {
   "display_name": "base",
   "language": "python",
   "name": "python3"
  },
  "language_info": {
   "codemirror_mode": {
    "name": "ipython",
    "version": 3
   },
   "file_extension": ".py",
   "mimetype": "text/x-python",
   "name": "python",
   "nbconvert_exporter": "python",
   "pygments_lexer": "ipython3",
   "version": "3.12.7"
  }
 },
 "nbformat": 4,
 "nbformat_minor": 5
}
