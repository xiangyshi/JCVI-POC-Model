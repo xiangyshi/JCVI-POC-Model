{
 "cells": [
  {
   "cell_type": "code",
   "execution_count": 5,
   "id": "b4999fb9",
   "metadata": {},
   "outputs": [],
   "source": [
    "from Bio import AlignIO\n",
    "import pandas as pd\n",
    "import re\n",
    "\n",
    "# Load alignment\n",
    "alignment = AlignIO.read(\"alignf_out.fasta\", \"fasta\")\n",
    "\n",
    "# Step 1: Identify reference sequence\n",
    "ref = alignment[0]\n",
    "ref_seq = ref.seq\n",
    "\n",
    "# Step 2: Map ungapped positions\n",
    "positions = []\n",
    "for i, aa in enumerate(ref_seq):\n",
    "    if aa != \"-\":\n",
    "        pos_num = len([r for r in ref_seq[:i] if r != \"-\"]) + 1\n",
    "        positions.append((i, aa, pos_num))\n",
    "\n",
    "# Step 3: Build mutation -> set of sequence IDs\n",
    "mut_map = {}\n",
    "\n",
    "\n",
    "# Mapping from seq IDs to variants (based on second dash-separated element)\n",
    "seq_to_variant = {}\n",
    "\n",
    "for record in alignment[1:]:\n",
    "    seq_id = record.id\n",
    "    header = record.description\n",
    "    parts = header.split(\"-\")\n",
    "    variant = parts[0] + \"-\" + parts[1] if len(parts) > 1 else \"Unknown\"\n",
    "    seq_to_variant[seq_id] = variant\n",
    "\n",
    "\n",
    "    seq = record.seq\n",
    "    for i, ref_aa, pos in positions:\n",
    "        # if pos < 319 or pos > 531:\n",
    "        #     continue\n",
    "        var_aa = seq[i]\n",
    "        if var_aa == ref_aa:\n",
    "            continue\n",
    "        if var_aa == \"-\":\n",
    "            label = f\"{ref_aa}{pos}-\"\n",
    "        elif ref_aa == \"-\":\n",
    "            label = f\"-{pos}{var_aa}\"\n",
    "        elif var_aa == \"X\":\n",
    "            continue\n",
    "        else:\n",
    "            label = f\"{ref_aa}{pos}{var_aa}\"\n",
    "        mut_map.setdefault(label, set()).add(seq_id)\n",
    "\n",
    "# Step 4: Build dataframe\n",
    "seq_ids = [rec.id for rec in alignment[1:]]\n",
    "mut_labels = sorted(mut_map.keys(), key=lambda x: (int(re.findall(r'\\d+', x)[0]), x))\n",
    "\n",
    "data = {'sequence': seq_ids,\n",
    "        'variant': [seq_to_variant[s] for s in seq_ids]}\n",
    "\n",
    "for label in mut_labels:\n",
    "    data[label] = [1 if seq in mut_map[label] else 0 for seq in seq_ids]\n",
    "\n",
    "df = pd.DataFrame(data)\n",
    "\n",
    "\n",
    "# Save to CSV\n",
    "# Generate safe variant tag for filename\n",
    "variant_tag = sorted(set(seq_to_variant.values()))[0]\n",
    "\n",
    "# Save to CSV with variants in the filename\n",
    "df.to_csv(f\"mutation/mutation-{variant_tag}.csv\", index=False, header=True)\n",
    "\n"
   ]
  },
  {
   "cell_type": "code",
   "execution_count": 6,
   "id": "7ffc076b",
   "metadata": {},
   "outputs": [],
   "source": [
    "import pandas as pd\n",
    "import os\n",
    "mutation_folder = \"mutation\"\n",
    "csv_files = [f for f in os.listdir(mutation_folder) if f.endswith('.csv') and \"mutation\" in f and \"all\" not in f]\n",
    "data = pd.DataFrame()\n",
    "for csv_file in sorted(csv_files):\n",
    "    data = pd.concat([data, pd.read_csv(os.path.join(mutation_folder, csv_file))])\n",
    "data.fillna(0, inplace=True)\n",
    "\n",
    "for col in data.columns:\n",
    "    if col == \"sequence\" or col == \"variant\":\n",
    "        continue\n",
    "    data[col] = data[col].astype(int)\n",
    "data.to_csv(\"mutation/mutation-all.csv\", index=False, header=True)"
   ]
  },
  {
   "cell_type": "code",
   "execution_count": 117,
   "id": "75112364",
   "metadata": {},
   "outputs": [
    {
     "data": {
      "text/plain": [
       "{98, 127, 130, 168, 170, 174, 181, 182, 183, 186}"
      ]
     },
     "execution_count": 117,
     "metadata": {},
     "output_type": "execute_result"
    }
   ],
   "source": [
    "spike_locations = \"\"\"\n",
    "N487(ND2)\n",
    "K417(NZ)\n",
    "Q493(NE2)\n",
    "Y505(OH)\n",
    "Y449(OH)\n",
    "T500(OG1)\n",
    "N501(N)\n",
    "G446(O)\n",
    "Y449(OH)\n",
    "Y489(OH)\n",
    "N487(OD1)\n",
    "G502(N)\n",
    "Y505(OH)\n",
    "K417(NZ)\n",
    "K417(NZ)\n",
    "\"\"\"\n",
    "ace2_locations = \"\"\"\n",
    "Q24(OE1)\n",
    "D30(OD2)\n",
    "E35(OE2)\n",
    "E37(OE2)\n",
    "D38(OD2)\n",
    "Y41(OH)\n",
    "Y41(OH)\n",
    "Q42(NE2)\n",
    "Q42(NE2)\n",
    "Y83(OH)\n",
    "Y83(OH)\n",
    "K353(O)\n",
    "R393(NH2)\n",
    "D30(OD1)\n",
    "D30(OD2)\n",
    "\"\"\"\n",
    "\n",
    "spike_residues = set()\n",
    "for line in spike_locations.split(\"\\n\"):\n",
    "    loc = \"\"\n",
    "    for c in line:\n",
    "        if c in \"0123456789\":\n",
    "            loc += c\n",
    "        elif c == \"(\":\n",
    "            break\n",
    "    if loc:\n",
    "        spike_residues.add(int(loc) - 319)\n",
    "\n",
    "spike_residues\n"
   ]
  },
  {
   "cell_type": "code",
   "execution_count": 118,
   "id": "91f680eb",
   "metadata": {},
   "outputs": [
    {
     "data": {
      "text/plain": [
       "{24, 30, 35, 37, 38, 41, 42, 83, 353, 393}"
      ]
     },
     "execution_count": 118,
     "metadata": {},
     "output_type": "execute_result"
    }
   ],
   "source": [
    "ace2_residues = set()\n",
    "for line in ace2_locations.split(\"\\n\"):\n",
    "    loc = \"\"\n",
    "    for c in line:\n",
    "        if c in \"0123456789\":\n",
    "            loc += c\n",
    "        elif c == \"(\":\n",
    "            break\n",
    "    if loc:\n",
    "        ace2_residues.add(int(loc))\n",
    "ace2_residues\n"
   ]
  },
  {
   "cell_type": "code",
   "execution_count": null,
   "id": "6f62a44c",
   "metadata": {},
   "outputs": [],
   "source": [
    "\n",
    "ACE2: 24, 30, 35, 37, 38, 41, 42, 83, 353, 393\n",
    "\n",
    "Spike: 98, 127, 130, 168, 170, 174, 181, 182, 183, 186"
   ]
  }
 ],
 "metadata": {
  "kernelspec": {
   "display_name": "base",
   "language": "python",
   "name": "python3"
  },
  "language_info": {
   "codemirror_mode": {
    "name": "ipython",
    "version": 3
   },
   "file_extension": ".py",
   "mimetype": "text/x-python",
   "name": "python",
   "nbconvert_exporter": "python",
   "pygments_lexer": "ipython3",
   "version": "3.12.7"
  }
 },
 "nbformat": 4,
 "nbformat_minor": 5
}
