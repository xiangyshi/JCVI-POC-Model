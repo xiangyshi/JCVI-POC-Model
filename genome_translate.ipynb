{
 "cells": [
  {
   "cell_type": "code",
   "execution_count": 14,
   "id": "5ed94575",
   "metadata": {},
   "outputs": [
    {
     "name": "stderr",
     "output_type": "stream",
     "text": [
      "c:\\Users\\leosh\\anaconda3\\Lib\\site-packages\\Bio\\Seq.py:2879: BiopythonWarning: Partial codon, len(sequence) not a multiple of three. Explicitly trim the sequence or add trailing N before translation. This may become an error in future.\n",
      "  warnings.warn(\n",
      "c:\\Users\\leosh\\anaconda3\\Lib\\site-packages\\Bio\\SeqRecord.py:354: BiopythonDeprecationWarning: Using a string as the sequence is deprecated and will raise a TypeError in future. It has been converted to a Seq object.\n",
      "  warnings.warn(\n"
     ]
    },
    {
     "ename": "TypeError",
     "evalue": "data should be a string, bytes, bytearray, Seq, or MutableSeq object",
     "output_type": "error",
     "traceback": [
      "\u001b[1;31m---------------------------------------------------------------------------\u001b[0m",
      "\u001b[1;31mTypeError\u001b[0m                                 Traceback (most recent call last)",
      "Cell \u001b[1;32mIn[14], line 14\u001b[0m\n\u001b[0;32m     12\u001b[0m rec\u001b[38;5;241m.\u001b[39mdescription \u001b[38;5;241m=\u001b[39m \u001b[38;5;124mf\u001b[39m\u001b[38;5;124m\"\u001b[39m\u001b[38;5;124mP_1-Proteome\u001b[39m\u001b[38;5;124m\"\u001b[39m\n\u001b[0;32m     13\u001b[0m spike_aa \u001b[38;5;241m=\u001b[39m spike_nt\u001b[38;5;241m.\u001b[39mtranslate(to_stop\u001b[38;5;241m=\u001b[39m\u001b[38;5;28;01mFalse\u001b[39;00m)\n\u001b[1;32m---> 14\u001b[0m \u001b[43mrec\u001b[49m\u001b[38;5;241;43m.\u001b[39;49m\u001b[43mseq\u001b[49m \u001b[38;5;241m=\u001b[39m spike_aa\n\u001b[0;32m     16\u001b[0m \u001b[38;5;66;03m# Save the spike sequence to the output file\u001b[39;00m\n\u001b[0;32m     17\u001b[0m \u001b[38;5;28;01mwith\u001b[39;00m \u001b[38;5;28mopen\u001b[39m(OUTPUT_FILE, \u001b[38;5;124m\"\u001b[39m\u001b[38;5;124mw\u001b[39m\u001b[38;5;124m\"\u001b[39m) \u001b[38;5;28;01mas\u001b[39;00m output_handle:\n",
      "File \u001b[1;32mc:\\Users\\leosh\\anaconda3\\Lib\\site-packages\\Bio\\SeqRecord.py:359\u001b[0m, in \u001b[0;36mSeqRecord.seq\u001b[1;34m(self, value)\u001b[0m\n\u001b[0;32m    353\u001b[0m \u001b[38;5;28;01mif\u001b[39;00m \u001b[38;5;129;01mnot\u001b[39;00m \u001b[38;5;28misinstance\u001b[39m(value, (Seq, MutableSeq)):\n\u001b[0;32m    354\u001b[0m     warnings\u001b[38;5;241m.\u001b[39mwarn(\n\u001b[0;32m    355\u001b[0m         \u001b[38;5;124m\"\u001b[39m\u001b[38;5;124mUsing a string as the sequence is deprecated and will raise a\u001b[39m\u001b[38;5;124m\"\u001b[39m\n\u001b[0;32m    356\u001b[0m         \u001b[38;5;124m\"\u001b[39m\u001b[38;5;124m TypeError in future. It has been converted to a Seq object.\u001b[39m\u001b[38;5;124m\"\u001b[39m,\n\u001b[0;32m    357\u001b[0m         BiopythonDeprecationWarning,\n\u001b[0;32m    358\u001b[0m     )\n\u001b[1;32m--> 359\u001b[0m     value \u001b[38;5;241m=\u001b[39m \u001b[43mSeq\u001b[49m\u001b[43m(\u001b[49m\u001b[43mvalue\u001b[49m\u001b[43m)\u001b[49m\n\u001b[0;32m    361\u001b[0m \u001b[38;5;66;03m# TODO - Add a deprecation warning that the seq should be write only?\u001b[39;00m\n\u001b[0;32m    362\u001b[0m \u001b[38;5;28;01mif\u001b[39;00m \u001b[38;5;28mself\u001b[39m\u001b[38;5;241m.\u001b[39m_per_letter_annotations:\n",
      "File \u001b[1;32mc:\\Users\\leosh\\anaconda3\\Lib\\site-packages\\Bio\\Seq.py:2162\u001b[0m, in \u001b[0;36mSeq.__init__\u001b[1;34m(self, data, length)\u001b[0m\n\u001b[0;32m   2160\u001b[0m             \u001b[38;5;28mself\u001b[39m\u001b[38;5;241m.\u001b[39m_data \u001b[38;5;241m=\u001b[39m _PartiallyDefinedSequenceData(length, _data)\n\u001b[0;32m   2161\u001b[0m \u001b[38;5;28;01melse\u001b[39;00m:\n\u001b[1;32m-> 2162\u001b[0m     \u001b[38;5;28;01mraise\u001b[39;00m \u001b[38;5;167;01mTypeError\u001b[39;00m(\n\u001b[0;32m   2163\u001b[0m         \u001b[38;5;124m\"\u001b[39m\u001b[38;5;124mdata should be a string, bytes, bytearray, Seq, or MutableSeq object\u001b[39m\u001b[38;5;124m\"\u001b[39m\n\u001b[0;32m   2164\u001b[0m     )\n",
      "\u001b[1;31mTypeError\u001b[0m: data should be a string, bytes, bytearray, Seq, or MutableSeq object"
     ]
    }
   ],
   "source": [
    "INPUT_FILE = \"sequences/P_1-Genome.fasta\"\n",
    "OUTPUT_FILE = \"sequences/P_1-Spike.fasta\"\n",
    "\n",
    "from Bio import SeqIO\n",
    "\n",
    "# adjust these if your sequence has extra leading Ns/UTRs trimmed\n",
    "\n",
    "for rec in SeqIO.parse(INPUT_FILE, \"fasta\"):\n",
    "    spike_nt = rec\n",
    "    # Write out as a new FASTA record:\n",
    "    rec.id += \"_Spike\"\n",
    "    rec.description = f\"P_1-Proteome\"\n",
    "    spike_aa = spike_nt.translate(to_stop=False)\n",
    "    rec.seq = spike_aa\n",
    "    \n",
    "    # Save the spike sequence to the output file\n",
    "    with open(OUTPUT_FILE, \"w\") as output_handle:\n",
    "        SeqIO.write(rec, output_handle, \"fasta\")\n",
    "    \n",
    "    print(f\"Spike sequence saved to {OUTPUT_FILE}\")\n",
    "    print(f\"Sequence length: {len(spike_nt)} nucleotides\")\n",
    "    print(rec.format(\"fasta\"))"
   ]
  },
  {
   "cell_type": "markdown",
   "id": "4615a567",
   "metadata": {},
   "source": [
    "## Sanity Check"
   ]
  },
  {
   "cell_type": "code",
   "execution_count": 12,
   "id": "05aa7cd5",
   "metadata": {},
   "outputs": [
    {
     "name": "stdout",
     "output_type": "stream",
     "text": [
      "Nucleotide length: 3822\n",
      "Amino acid length: 1274\n",
      "Expected AA length: ~1270-1276\n",
      "Match expected range: True\n"
     ]
    }
   ],
   "source": [
    "from Bio.Seq import Seq\n",
    "from Bio import SeqIO\n",
    "\n",
    "# Read the saved spike sequence file\n",
    "spike_record = SeqIO.read(\"sequences/P_1-Spike.fasta\", \"fasta\")\n",
    "spike_nt = spike_record.seq\n",
    "\n",
    "# Translate to amino acids\n",
    "spike_aa = spike_nt.translate(to_stop=False)\n",
    "\n",
    "print(f\"Nucleotide length: {len(spike_nt)}\")\n",
    "print(f\"Amino acid length: {len(spike_aa)}\")\n",
    "print(f\"Expected AA length: ~1270-1276\")\n",
    "print(f\"Match expected range: {1270 <= len(spike_aa) <= 1276}\")\n"
   ]
  },
  {
   "cell_type": "code",
   "execution_count": null,
   "id": "27ae2204",
   "metadata": {},
   "outputs": [],
   "source": []
  }
 ],
 "metadata": {
  "kernelspec": {
   "display_name": "base",
   "language": "python",
   "name": "python3"
  },
  "language_info": {
   "codemirror_mode": {
    "name": "ipython",
    "version": 3
   },
   "file_extension": ".py",
   "mimetype": "text/x-python",
   "name": "python",
   "nbconvert_exporter": "python",
   "pygments_lexer": "ipython3",
   "version": "3.12.7"
  }
 },
 "nbformat": 4,
 "nbformat_minor": 5
}
